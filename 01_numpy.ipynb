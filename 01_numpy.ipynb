{
  "nbformat": 4,
  "nbformat_minor": 0,
  "metadata": {
    "colab": {
      "name": "01_numpy.ipynb",
      "version": "0.3.2",
      "provenance": [],
      "collapsed_sections": []
    },
    "kernelspec": {
      "name": "python3",
      "display_name": "Python 3"
    }
  },
  "cells": [
    {
      "cell_type": "code",
      "metadata": {
        "id": "K9FcUw-WhPpA",
        "colab_type": "code",
        "colab": {}
      },
      "source": [
        "# Import numpy library\n",
        "\n",
        "import numpy as np"
      ],
      "execution_count": 0,
      "outputs": []
    },
    {
      "cell_type": "code",
      "metadata": {
        "id": "18UeAtVKme-L",
        "colab_type": "code",
        "colab": {}
      },
      "source": [
        "# Import other useful python libraries\n",
        "\n",
        "import math\n",
        "import random"
      ],
      "execution_count": 0,
      "outputs": []
    },
    {
      "cell_type": "code",
      "metadata": {
        "id": "OdN5217Bh0vn",
        "colab_type": "code",
        "outputId": "78feeb9b-570c-44db-efdd-1be04c3598d5",
        "colab": {
          "base_uri": "https://localhost:8080/",
          "height": 34
        }
      },
      "source": [
        "# Check the version of each imported library\n",
        "\n",
        "print(\"The vesion of the numpy library: \" + np.__version__)"
      ],
      "execution_count": 0,
      "outputs": [
        {
          "output_type": "stream",
          "text": [
            "The vesion of the numpy library: 1.16.4\n"
          ],
          "name": "stdout"
        }
      ]
    },
    {
      "cell_type": "code",
      "metadata": {
        "id": "YMkkWjty5q1B",
        "colab_type": "code",
        "outputId": "2f9d8a81-48d8-4f22-db7f-a037c434b7ea",
        "colab": {
          "base_uri": "https://localhost:8080/",
          "height": 34
        }
      },
      "source": [
        "# Check whether numpy library is imported. \n",
        "# If library is imported in the current session, then output of below statement should return True\n",
        "\n",
        "'numpy' in sys.modules"
      ],
      "execution_count": 0,
      "outputs": [
        {
          "output_type": "execute_result",
          "data": {
            "text/plain": [
              "True"
            ]
          },
          "metadata": {
            "tags": []
          },
          "execution_count": 55
        }
      ]
    },
    {
      "cell_type": "code",
      "metadata": {
        "id": "-kN5WG7S8afp",
        "colab_type": "code",
        "colab": {}
      },
      "source": [
        "# Create a numpy array using a list\n",
        "\n",
        "n_array = np.array([30,56,23,45,50,67,97,62,85,90])"
      ],
      "execution_count": 0,
      "outputs": []
    },
    {
      "cell_type": "code",
      "metadata": {
        "id": "KXMIgOVr-E8n",
        "colab_type": "code",
        "outputId": "860b1601-41cb-4c07-cf53-1155c587c849",
        "colab": {
          "base_uri": "https://localhost:8080/",
          "height": 34
        }
      },
      "source": [
        "# Let's check the type of resultant object\n",
        "\n",
        "type(n_array)"
      ],
      "execution_count": 0,
      "outputs": [
        {
          "output_type": "execute_result",
          "data": {
            "text/plain": [
              "numpy.ndarray"
            ]
          },
          "metadata": {
            "tags": []
          },
          "execution_count": 110
        }
      ]
    },
    {
      "cell_type": "code",
      "metadata": {
        "id": "q6AGnJRDHqxy",
        "colab_type": "code",
        "outputId": "07992d3e-c457-457c-b2ce-39f1cc193538",
        "colab": {
          "base_uri": "https://localhost:8080/",
          "height": 34
        }
      },
      "source": [
        "# Print the lenth of the array\n",
        "\n",
        "print('The length of array is', len(n_array))"
      ],
      "execution_count": 0,
      "outputs": [
        {
          "output_type": "stream",
          "text": [
            "The length of array is 10\n"
          ],
          "name": "stdout"
        }
      ]
    },
    {
      "cell_type": "code",
      "metadata": {
        "id": "sMJiznGOAc9I",
        "colab_type": "code",
        "outputId": "67fcb82b-52b6-4d61-ff33-57748ef399a1",
        "colab": {
          "base_uri": "https://localhost:8080/",
          "height": 34
        }
      },
      "source": [
        "# Print the n_array \n",
        "\n",
        "print('Contents of n_array:', n_array)"
      ],
      "execution_count": 0,
      "outputs": [
        {
          "output_type": "stream",
          "text": [
            "Contents of n_array: [30 56 23 45 50 67 97 62 85 90]\n"
          ],
          "name": "stdout"
        }
      ]
    },
    {
      "cell_type": "code",
      "metadata": {
        "id": "YGUAxChJFw4U",
        "colab_type": "code",
        "outputId": "1f65d30e-4b5e-4420-8cc8-6042d62da26e",
        "colab": {
          "base_uri": "https://localhost:8080/",
          "height": 50
        }
      },
      "source": [
        "# We can access the elements of numpy array using indexing\n",
        "\n",
        "print('The first element of array is', n_array[0])\n",
        "print('The third element of array is', n_array[2])"
      ],
      "execution_count": 0,
      "outputs": [
        {
          "output_type": "stream",
          "text": [
            "The first element of array is 30\n",
            "The third element of array is 23\n"
          ],
          "name": "stdout"
        }
      ]
    },
    {
      "cell_type": "code",
      "metadata": {
        "id": "V_3610j7HRTc",
        "colab_type": "code",
        "outputId": "800dfb5e-2406-4683-c2ce-5766f809ef80",
        "colab": {
          "base_uri": "https://localhost:8080/",
          "height": 50
        }
      },
      "source": [
        "# We can also access the elements of numpy array from end of the array\n",
        "\n",
        "print('The last element of array is', n_array[-1])\n",
        "print('The second last element of array is', n_array[-2])"
      ],
      "execution_count": 0,
      "outputs": [
        {
          "output_type": "stream",
          "text": [
            "The last element of array is 90\n",
            "The second last element of array is 85\n"
          ],
          "name": "stdout"
        }
      ]
    },
    {
      "cell_type": "markdown",
      "metadata": {
        "id": "nhbxqfU4KWf-",
        "colab_type": "text"
      },
      "source": [
        "We can slice the array to extract arrays of the same number of dimensions, but of different sizes than the original. \n",
        "\n",
        "Let's look at following examples of slicing the array:"
      ]
    },
    {
      "cell_type": "code",
      "metadata": {
        "id": "w84KF-qsI_FT",
        "colab_type": "code",
        "outputId": "5743fab9-af9f-4da0-c0b6-901d4d09351a",
        "colab": {
          "base_uri": "https://localhost:8080/",
          "height": 34
        }
      },
      "source": [
        "n_array[0:4]  # This will print elements of array with index from 0 to 2, excluding index 3"
      ],
      "execution_count": 0,
      "outputs": [
        {
          "output_type": "execute_result",
          "data": {
            "text/plain": [
              "array([30, 56, 23, 45])"
            ]
          },
          "metadata": {
            "tags": []
          },
          "execution_count": 125
        }
      ]
    },
    {
      "cell_type": "code",
      "metadata": {
        "id": "KKDmdekYM1zu",
        "colab_type": "code",
        "outputId": "c60a73e9-e834-46ce-afbc-868ab616f450",
        "colab": {
          "base_uri": "https://localhost:8080/",
          "height": 34
        }
      },
      "source": [
        "n_array[3:7]"
      ],
      "execution_count": 0,
      "outputs": [
        {
          "output_type": "execute_result",
          "data": {
            "text/plain": [
              "array([45, 50, 67, 97])"
            ]
          },
          "metadata": {
            "tags": []
          },
          "execution_count": 126
        }
      ]
    },
    {
      "cell_type": "code",
      "metadata": {
        "id": "pi3VcYtlKS4V",
        "colab_type": "code",
        "outputId": "a14c589b-1550-4e95-abc9-a75470cd8997",
        "colab": {
          "base_uri": "https://localhost:8080/",
          "height": 34
        }
      },
      "source": [
        "n_array[2:]"
      ],
      "execution_count": 0,
      "outputs": [
        {
          "output_type": "execute_result",
          "data": {
            "text/plain": [
              "array([23, 45, 50, 67, 97, 62, 85, 90])"
            ]
          },
          "metadata": {
            "tags": []
          },
          "execution_count": 117
        }
      ]
    },
    {
      "cell_type": "code",
      "metadata": {
        "id": "T1qLXpz4K-t3",
        "colab_type": "code",
        "outputId": "6c465c19-bf4a-4589-9a55-c13dc287754d",
        "colab": {
          "base_uri": "https://localhost:8080/",
          "height": 34
        }
      },
      "source": [
        "n_array[:4]"
      ],
      "execution_count": 0,
      "outputs": [
        {
          "output_type": "execute_result",
          "data": {
            "text/plain": [
              "array([30, 56, 23, 45])"
            ]
          },
          "metadata": {
            "tags": []
          },
          "execution_count": 118
        }
      ]
    },
    {
      "cell_type": "code",
      "metadata": {
        "id": "YtrD7tbJLxQM",
        "colab_type": "code",
        "outputId": "f859592e-8e2d-496e-f60b-929a366c5199",
        "colab": {
          "base_uri": "https://localhost:8080/",
          "height": 34
        }
      },
      "source": [
        "n_array[:-7]"
      ],
      "execution_count": 0,
      "outputs": [
        {
          "output_type": "execute_result",
          "data": {
            "text/plain": [
              "array([30, 56, 23])"
            ]
          },
          "metadata": {
            "tags": []
          },
          "execution_count": 123
        }
      ]
    },
    {
      "cell_type": "code",
      "metadata": {
        "id": "uka1EiDUMLe7",
        "colab_type": "code",
        "outputId": "577b7e93-86d5-4a4f-a380-96e381c8d380",
        "colab": {
          "base_uri": "https://localhost:8080/",
          "height": 34
        }
      },
      "source": [
        "n_array[-7:]"
      ],
      "execution_count": 0,
      "outputs": [
        {
          "output_type": "execute_result",
          "data": {
            "text/plain": [
              "array([45, 50, 67, 97, 62, 85, 90])"
            ]
          },
          "metadata": {
            "tags": []
          },
          "execution_count": 124
        }
      ]
    },
    {
      "cell_type": "code",
      "metadata": {
        "id": "Rmp46J52LdLI",
        "colab_type": "code",
        "outputId": "66d64266-76ca-4e45-ecd0-dd16d358a245",
        "colab": {
          "base_uri": "https://localhost:8080/",
          "height": 34
        }
      },
      "source": [
        "n_array[0:9:2]"
      ],
      "execution_count": 0,
      "outputs": [
        {
          "output_type": "execute_result",
          "data": {
            "text/plain": [
              "array([30, 23, 50, 97, 85])"
            ]
          },
          "metadata": {
            "tags": []
          },
          "execution_count": 120
        }
      ]
    },
    {
      "cell_type": "code",
      "metadata": {
        "id": "cgKs_iLE-UDA",
        "colab_type": "code",
        "colab": {}
      },
      "source": [
        "# We can convert numpy array object into list using tolist() function associated with numpy array\n",
        "\n",
        "n_list = n_array.tolist()"
      ],
      "execution_count": 0,
      "outputs": []
    },
    {
      "cell_type": "code",
      "metadata": {
        "id": "H4WXr33l-i9j",
        "colab_type": "code",
        "outputId": "30ac31e5-328c-4aca-c99a-3f5f0c1b7f55",
        "colab": {
          "base_uri": "https://localhost:8080/",
          "height": 34
        }
      },
      "source": [
        "type(n_list)"
      ],
      "execution_count": 0,
      "outputs": [
        {
          "output_type": "execute_result",
          "data": {
            "text/plain": [
              "list"
            ]
          },
          "metadata": {
            "tags": []
          },
          "execution_count": 60
        }
      ]
    },
    {
      "cell_type": "code",
      "metadata": {
        "id": "3zS4W6H0-nK9",
        "colab_type": "code",
        "outputId": "f601217d-ce46-4f00-a78f-3321d5674f62",
        "colab": {
          "base_uri": "https://localhost:8080/",
          "height": 34
        }
      },
      "source": [
        "print('Contents of n_list are: ', n_list)"
      ],
      "execution_count": 0,
      "outputs": [
        {
          "output_type": "stream",
          "text": [
            "Contents of n_list are:  [30, 56, 23, 45, 50]\n"
          ],
          "name": "stdout"
        }
      ]
    },
    {
      "cell_type": "code",
      "metadata": {
        "id": "ECtD8T0hAUIU",
        "colab_type": "code",
        "colab": {}
      },
      "source": [
        "# Delete the list named n_list created above\n",
        "\n",
        "del n_list"
      ],
      "execution_count": 0,
      "outputs": []
    },
    {
      "cell_type": "markdown",
      "metadata": {
        "id": "A7BPJwxGBwN8",
        "colab_type": "text"
      },
      "source": [
        "Earlier in this tutorial, we imported numpy library and created a numpy array using array() function and passing a list as input to the function.\n",
        "\n",
        "Let's create an empty numpy array using empty() function. Once created, we will assign the elements to the array by accessing the array using the index."
      ]
    },
    {
      "cell_type": "code",
      "metadata": {
        "id": "LsSHdudPk3J9",
        "colab_type": "code",
        "colab": {}
      },
      "source": [
        "n = np.empty([10],dtype=int)"
      ],
      "execution_count": 0,
      "outputs": []
    },
    {
      "cell_type": "code",
      "metadata": {
        "id": "_EO2HC1hlB-g",
        "colab_type": "code",
        "colab": {}
      },
      "source": [
        "for i in range(len(n)):\n",
        "  n[i] = random.randrange(100,200)"
      ],
      "execution_count": 0,
      "outputs": []
    },
    {
      "cell_type": "code",
      "metadata": {
        "id": "hR9JTyxqmJZ4",
        "colab_type": "code",
        "outputId": "79df35b3-cf3e-48d9-8fcb-d6d4c6258de7",
        "colab": {
          "base_uri": "https://localhost:8080/",
          "height": 34
        }
      },
      "source": [
        "type(n)"
      ],
      "execution_count": 0,
      "outputs": [
        {
          "output_type": "execute_result",
          "data": {
            "text/plain": [
              "numpy.ndarray"
            ]
          },
          "metadata": {
            "tags": []
          },
          "execution_count": 89
        }
      ]
    },
    {
      "cell_type": "code",
      "metadata": {
        "id": "LG837ZA8mOvo",
        "colab_type": "code",
        "outputId": "23d6f0bf-40c1-41a3-ea58-f18127f741a5",
        "colab": {
          "base_uri": "https://localhost:8080/",
          "height": 34
        }
      },
      "source": [
        "print(\"Contents of array: \", n)"
      ],
      "execution_count": 0,
      "outputs": [
        {
          "output_type": "stream",
          "text": [
            "Contents of array:  [189 115 107 173 132 177 199 129 168 149]\n"
          ],
          "name": "stdout"
        }
      ]
    },
    {
      "cell_type": "code",
      "metadata": {
        "id": "nN_g_eJKmbS4",
        "colab_type": "code",
        "outputId": "b5e04d8f-723d-48e6-814c-7297776baca9",
        "colab": {
          "base_uri": "https://localhost:8080/",
          "height": 185
        }
      },
      "source": [
        "for item in range(10):\n",
        "  print(item,n[item])"
      ],
      "execution_count": 0,
      "outputs": [
        {
          "output_type": "stream",
          "text": [
            "0 189\n",
            "1 115\n",
            "2 107\n",
            "3 173\n",
            "4 132\n",
            "5 177\n",
            "6 199\n",
            "7 129\n",
            "8 168\n",
            "9 149\n"
          ],
          "name": "stdout"
        }
      ]
    },
    {
      "cell_type": "code",
      "metadata": {
        "id": "HHucKMUMoHgw",
        "colab_type": "code",
        "outputId": "cffc7312-1d05-4781-d275-1a9c315510d4",
        "colab": {
          "base_uri": "https://localhost:8080/",
          "height": 34
        }
      },
      "source": [
        "n.min()"
      ],
      "execution_count": 0,
      "outputs": [
        {
          "output_type": "execute_result",
          "data": {
            "text/plain": [
              "103"
            ]
          },
          "metadata": {
            "tags": []
          },
          "execution_count": 68
        }
      ]
    },
    {
      "cell_type": "code",
      "metadata": {
        "id": "ya_P_gWqoWGw",
        "colab_type": "code",
        "outputId": "00022431-85bf-448f-a0b3-2c1e883700c2",
        "colab": {
          "base_uri": "https://localhost:8080/",
          "height": 34
        }
      },
      "source": [
        "n.max()"
      ],
      "execution_count": 0,
      "outputs": [
        {
          "output_type": "execute_result",
          "data": {
            "text/plain": [
              "197"
            ]
          },
          "metadata": {
            "tags": []
          },
          "execution_count": 69
        }
      ]
    },
    {
      "cell_type": "code",
      "metadata": {
        "id": "3reT7FxjoXeY",
        "colab_type": "code",
        "outputId": "6b010702-c250-4039-8069-5d7e2df159e2",
        "colab": {
          "base_uri": "https://localhost:8080/",
          "height": 34
        }
      },
      "source": [
        "n.mean()"
      ],
      "execution_count": 0,
      "outputs": [
        {
          "output_type": "execute_result",
          "data": {
            "text/plain": [
              "157.9"
            ]
          },
          "metadata": {
            "tags": []
          },
          "execution_count": 70
        }
      ]
    },
    {
      "cell_type": "code",
      "metadata": {
        "id": "JFOByhMNoaAA",
        "colab_type": "code",
        "outputId": "0cc7c093-fc32-4572-8e02-92abdfa8b963",
        "colab": {
          "base_uri": "https://localhost:8080/",
          "height": 34
        }
      },
      "source": [
        "n.dtype"
      ],
      "execution_count": 0,
      "outputs": [
        {
          "output_type": "execute_result",
          "data": {
            "text/plain": [
              "dtype('int64')"
            ]
          },
          "metadata": {
            "tags": []
          },
          "execution_count": 71
        }
      ]
    },
    {
      "cell_type": "code",
      "metadata": {
        "id": "EzEZIPF4og6Q",
        "colab_type": "code",
        "outputId": "18995d0f-ffaa-458a-ffbb-a83a7c1fadbf",
        "colab": {
          "base_uri": "https://localhost:8080/",
          "height": 34
        }
      },
      "source": [
        "n.cumsum()"
      ],
      "execution_count": 0,
      "outputs": [
        {
          "output_type": "execute_result",
          "data": {
            "text/plain": [
              "array([ 117,  312,  476,  644,  818, 1013, 1118, 1279, 1382, 1579])"
            ]
          },
          "metadata": {
            "tags": []
          },
          "execution_count": 72
        }
      ]
    },
    {
      "cell_type": "code",
      "metadata": {
        "id": "XTf8xFw3p0gI",
        "colab_type": "code",
        "outputId": "dd3eec99-deec-467d-cb51-fae9cb63126d",
        "colab": {
          "base_uri": "https://localhost:8080/",
          "height": 34
        }
      },
      "source": [
        "n.sum()"
      ],
      "execution_count": 0,
      "outputs": [
        {
          "output_type": "execute_result",
          "data": {
            "text/plain": [
              "1579"
            ]
          },
          "metadata": {
            "tags": []
          },
          "execution_count": 73
        }
      ]
    },
    {
      "cell_type": "code",
      "metadata": {
        "id": "6FioGnBAp7tg",
        "colab_type": "code",
        "outputId": "e6dc6c0a-e464-4646-b929-c091bcd2a3e2",
        "colab": {
          "base_uri": "https://localhost:8080/",
          "height": 34
        }
      },
      "source": [
        "n.copy()"
      ],
      "execution_count": 0,
      "outputs": [
        {
          "output_type": "execute_result",
          "data": {
            "text/plain": [
              "array([117, 195, 164, 168, 174, 195, 105, 161, 103, 197])"
            ]
          },
          "metadata": {
            "tags": []
          },
          "execution_count": 74
        }
      ]
    },
    {
      "cell_type": "code",
      "metadata": {
        "id": "OHGypBnyp_vY",
        "colab_type": "code",
        "colab": {}
      },
      "source": [
        "m = n.copy()"
      ],
      "execution_count": 0,
      "outputs": []
    },
    {
      "cell_type": "code",
      "metadata": {
        "id": "kUEImpqZqCZo",
        "colab_type": "code",
        "outputId": "3e163aed-9ffc-4049-9177-41beb3f46907",
        "colab": {
          "base_uri": "https://localhost:8080/",
          "height": 34
        }
      },
      "source": [
        "print(m)"
      ],
      "execution_count": 0,
      "outputs": [
        {
          "output_type": "stream",
          "text": [
            "[117 195 164 168 174 195 105 161 103 197]\n"
          ],
          "name": "stdout"
        }
      ]
    },
    {
      "cell_type": "code",
      "metadata": {
        "id": "WU5U-QHAqC8Q",
        "colab_type": "code",
        "outputId": "08aa342e-a765-489d-94e5-25cbd4b8c3a0",
        "colab": {
          "base_uri": "https://localhost:8080/",
          "height": 34
        }
      },
      "source": [
        "n.ndim"
      ],
      "execution_count": 0,
      "outputs": [
        {
          "output_type": "execute_result",
          "data": {
            "text/plain": [
              "1"
            ]
          },
          "metadata": {
            "tags": []
          },
          "execution_count": 77
        }
      ]
    },
    {
      "cell_type": "code",
      "metadata": {
        "id": "avQC0nv7qE2e",
        "colab_type": "code",
        "outputId": "05e16527-9b95-4d21-ae47-0ce3c540c86d",
        "colab": {
          "base_uri": "https://localhost:8080/",
          "height": 34
        }
      },
      "source": [
        "n.nbytes"
      ],
      "execution_count": 0,
      "outputs": [
        {
          "output_type": "execute_result",
          "data": {
            "text/plain": [
              "80"
            ]
          },
          "metadata": {
            "tags": []
          },
          "execution_count": 78
        }
      ]
    },
    {
      "cell_type": "code",
      "metadata": {
        "id": "9fEDorA5qbXw",
        "colab_type": "code",
        "outputId": "3d24140e-67e2-4696-bf51-5fadfb9440ab",
        "colab": {
          "base_uri": "https://localhost:8080/",
          "height": 34
        }
      },
      "source": [
        "n.dtype"
      ],
      "execution_count": 0,
      "outputs": [
        {
          "output_type": "execute_result",
          "data": {
            "text/plain": [
              "dtype('int64')"
            ]
          },
          "metadata": {
            "tags": []
          },
          "execution_count": 79
        }
      ]
    },
    {
      "cell_type": "code",
      "metadata": {
        "id": "oFx5fY3gqgpw",
        "colab_type": "code",
        "outputId": "9eeb196c-5bbd-4d95-e079-8b1728a8a87c",
        "colab": {
          "base_uri": "https://localhost:8080/",
          "height": 34
        }
      },
      "source": [
        "n.shape"
      ],
      "execution_count": 0,
      "outputs": [
        {
          "output_type": "execute_result",
          "data": {
            "text/plain": [
              "(10,)"
            ]
          },
          "metadata": {
            "tags": []
          },
          "execution_count": 80
        }
      ]
    },
    {
      "cell_type": "code",
      "metadata": {
        "id": "S4YWtc4rq70A",
        "colab_type": "code",
        "colab": {}
      },
      "source": [
        "n = np.append(n,400)"
      ],
      "execution_count": 0,
      "outputs": []
    },
    {
      "cell_type": "code",
      "metadata": {
        "id": "URCttRJFrQgH",
        "colab_type": "code",
        "outputId": "fb903e38-efad-4960-ee13-cc2df8b4eb66",
        "colab": {
          "base_uri": "https://localhost:8080/",
          "height": 34
        }
      },
      "source": [
        "n.nbytes"
      ],
      "execution_count": 0,
      "outputs": [
        {
          "output_type": "execute_result",
          "data": {
            "text/plain": [
              "88"
            ]
          },
          "metadata": {
            "tags": []
          },
          "execution_count": 82
        }
      ]
    },
    {
      "cell_type": "code",
      "metadata": {
        "id": "LgLJpaXwriSP",
        "colab_type": "code",
        "outputId": "dfa5c633-270f-4cb7-ff6a-0c3eda05177d",
        "colab": {
          "base_uri": "https://localhost:8080/",
          "height": 34
        }
      },
      "source": [
        "n"
      ],
      "execution_count": 0,
      "outputs": [
        {
          "output_type": "execute_result",
          "data": {
            "text/plain": [
              "array([117, 195, 164, 168, 174, 195, 105, 161, 103, 197, 400])"
            ]
          },
          "metadata": {
            "tags": []
          },
          "execution_count": 83
        }
      ]
    },
    {
      "cell_type": "code",
      "metadata": {
        "id": "o580TXrLrp3Y",
        "colab_type": "code",
        "colab": {}
      },
      "source": [
        "import sys"
      ],
      "execution_count": 0,
      "outputs": []
    },
    {
      "cell_type": "code",
      "metadata": {
        "id": "GCklwLQ66dVy",
        "colab_type": "code",
        "colab": {}
      },
      "source": [
        "import scipy"
      ],
      "execution_count": 0,
      "outputs": []
    },
    {
      "cell_type": "code",
      "metadata": {
        "id": "tyjjuTuo6k2Z",
        "colab_type": "code",
        "colab": {}
      },
      "source": [
        ""
      ],
      "execution_count": 0,
      "outputs": []
    },
    {
      "cell_type": "code",
      "metadata": {
        "id": "bjq4bWOp6e1K",
        "colab_type": "code",
        "outputId": "3f770f97-2886-4c85-a171-247a24d873b2",
        "colab": {
          "base_uri": "https://localhost:8080/",
          "height": 129
        }
      },
      "source": [
        "scipy."
      ],
      "execution_count": 0,
      "outputs": [
        {
          "output_type": "error",
          "ename": "SyntaxError",
          "evalue": "ignored",
          "traceback": [
            "\u001b[0;36m  File \u001b[0;32m\"<ipython-input-86-fdb0f3a64ca4>\"\u001b[0;36m, line \u001b[0;32m1\u001b[0m\n\u001b[0;31m    scipy.\u001b[0m\n\u001b[0m          ^\u001b[0m\n\u001b[0;31mSyntaxError\u001b[0m\u001b[0;31m:\u001b[0m invalid syntax\n"
          ]
        }
      ]
    }
  ]
}